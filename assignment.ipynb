{
 "cells": [
  {
   "cell_type": "markdown",
   "id": "878f580f",
   "metadata": {},
   "source": [
    "# print hello world\n"
   ]
  },
  {
   "cell_type": "code",
   "execution_count": 34,
   "id": "15fa7990",
   "metadata": {},
   "outputs": [
    {
     "name": "stdout",
     "output_type": "stream",
     "text": [
      "hello world\n"
     ]
    }
   ],
   "source": [
    "print(\"hello world\")"
   ]
  },
  {
   "cell_type": "markdown",
   "id": "601d8985",
   "metadata": {},
   "source": [
    "### 1.use all operators in two variables"
   ]
  },
  {
   "cell_type": "code",
   "execution_count": 3,
   "id": "ce259b93",
   "metadata": {},
   "outputs": [
    {
     "name": "stdout",
     "output_type": "stream",
     "text": [
      "enter the number for a:4\n",
      "enter the number for b:8\n",
      "addition of two variable is: 12\n",
      "subtraction of two variable is: -4\n",
      "multiplication of two number is: 32\n",
      "division of two numbers is: 0\n"
     ]
    }
   ],
   "source": [
    "def operation():\n",
    "  a=int(input(\"enter the number for a:\"))\n",
    "  b=int(input('enter the number for b:'))\n",
    "  c=a+b\n",
    "  print(\"addition of two variable is:\",c)\n",
    "  d=a-b\n",
    "  print(\"subtraction of two variable is:\",d)\n",
    "  e=a*b\n",
    "  print(\"multiplication of two number is:\",e)\n",
    "  f=a//b\n",
    "  print(\"division of two numbers is:\",f)\n",
    "operation()"
   ]
  },
  {
   "cell_type": "markdown",
   "id": "6096f4c1",
   "metadata": {},
   "source": [
    "### 2.find simple interest\n"
   ]
  },
  {
   "cell_type": "code",
   "execution_count": 4,
   "id": "40894615",
   "metadata": {},
   "outputs": [
    {
     "name": "stdout",
     "output_type": "stream",
     "text": [
      "enter the principle amount:4500\n",
      "enter the time:2\n",
      "total_interest are: 315.0\n"
     ]
    }
   ],
   "source": [
    "amt=int(input(\"enter the principle amount:\"))\n",
    "time=int(input(\"enter the time:\"))\n",
    "rate=3.5\n",
    "\n",
    "def simple_interest(amount,time,rate):\n",
    "\n",
    "  total_interest=(amt*time*rate)/100\n",
    "  print(\"total_interest are:\",total_interest)\n",
    "simple_interest(amt,time,rate)"
   ]
  },
  {
   "cell_type": "markdown",
   "id": "c9968eb8",
   "metadata": {},
   "source": [
    "### 3.program to calculate salary,input basic pay,PRA=16%B.P.,DA=19%B.P.,PF=10%,HRA=15%,net=basic pay+HRA+DA,gross pay=net pay-PF"
   ]
  },
  {
   "cell_type": "code",
   "execution_count": 2,
   "id": "5fa29a48",
   "metadata": {},
   "outputs": [
    {
     "name": "stdout",
     "output_type": "stream",
     "text": [
      "salary program\n",
      "enter the name of the employee:Preeti\n",
      "enter the basc salary of the employee:20000\n",
      "NAME OF THE EMPLOYEE: Preeti\n",
      "BASIC SALARY: 20000\n",
      "DEARNESS ALLOW: 3800.0\n",
      "HOUSE RENT ALLOW: 3000.0\n",
      "NET SALARY PAY: 26800.0\n",
      "RPOVIDENT FUND: 2380.0\n",
      "GROSS PAYMENT: 24420.0\n"
     ]
    }
   ],
   "source": [
    "print(\"salary program\")\n",
    "name=str(input(\"enter the name of the employee:\"))\n",
    "basic=int(input(\"enter the basc salary of the employee:\"))\n",
    "DA=float(basic*0.19)\n",
    "HRA=float(basic*0.15)\n",
    "PF=float(basic+DA)*0.10\n",
    "netpay=float(basic+DA+HRA)\n",
    "grosspay=float(netpay-PF)\n",
    "print(\"NAME OF THE EMPLOYEE:\",name)\n",
    "print(\"BASIC SALARY:\",basic)\n",
    "print(\"DEARNESS ALLOW:\",DA)\n",
    "print(\"HOUSE RENT ALLOW:\",HRA)\n",
    "print(\"NET SALARY PAY:\",netpay)\n",
    "print(\"RPOVIDENT FUND:\",PF)\n",
    "print(\"GROSS PAYMENT:\",grosspay)"
   ]
  },
  {
   "cell_type": "markdown",
   "id": "b34980f3",
   "metadata": {},
   "source": [
    "### 4.calculate the grades"
   ]
  },
  {
   "cell_type": "code",
   "execution_count": 3,
   "id": "69c5eb26",
   "metadata": {},
   "outputs": [
    {
     "name": "stdout",
     "output_type": "stream",
     "text": [
      "enter the marks of five subjects:\n",
      "marks of english:98\n",
      "marks of maths:99\n",
      "marks of hindi:92\n",
      "marks of sst:93\n",
      "marks of scinece:90\n",
      "total marks is: 472\n",
      "average marks: 94\n",
      "grade:A\n"
     ]
    }
   ],
   "source": [
    "print(\"enter the marks of five subjects:\")\n",
    "eng=int(input(\"marks of english:\"))\n",
    "maths=int(input(\"marks of maths:\"))\n",
    "hindi=int(input(\"marks of hindi:\"))\n",
    "sst=int(input(\"marks of sst:\"))\n",
    "science=int(input(\"marks of scinece:\"))\n",
    "total=eng+maths+sst+hindi+science\n",
    "print(\"total marks is:\",total)\n",
    "avg=total//5\n",
    "print(\"average marks:\",avg)\n",
    "if(0<=avg<=100):\n",
    "    if(avg>=90):\n",
    "        print(\"grade:A\")\n",
    "    elif(avg>=80):\n",
    "        print(\"grade:B\")\n",
    "    elif(avg>=70):\n",
    "        print(\"grade:C\")\n",
    "    elif(avg>=60):\n",
    "        print(\"grade:D\")\n",
    "    else:\n",
    "        print(\"grade:F\")\n",
    "else:\n",
    "    print(\"invalid marks/////\")"
   ]
  },
  {
   "cell_type": "markdown",
   "id": "a4b7f8b0",
   "metadata": {},
   "source": [
    "### 5.Print your name 10 times"
   ]
  },
  {
   "cell_type": "code",
   "execution_count": 8,
   "id": "f4b3136e",
   "metadata": {},
   "outputs": [
    {
     "name": "stdout",
     "output_type": "stream",
     "text": [
      "1 preeti\n",
      "2 preeti\n",
      "3 preeti\n",
      "4 preeti\n",
      "5 preeti\n",
      "6 preeti\n",
      "7 preeti\n",
      "8 preeti\n",
      "9 preeti\n",
      "10 preeti\n"
     ]
    }
   ],
   "source": [
    "for i in range(1,11):\n",
    "    print(i,\"preeti\")"
   ]
  },
  {
   "cell_type": "markdown",
   "id": "a8651c52",
   "metadata": {},
   "source": [
    "### 6.Print the sum integers till 5"
   ]
  },
  {
   "cell_type": "code",
   "execution_count": 13,
   "id": "1b1702ad",
   "metadata": {},
   "outputs": [
    {
     "name": "stdout",
     "output_type": "stream",
     "text": [
      "10\n"
     ]
    }
   ],
   "source": [
    "sum=0\n",
    "for i in range(5):\n",
    "    sum=sum+i\n",
    "print(sum)    "
   ]
  },
  {
   "cell_type": "markdown",
   "id": "0a079ea0",
   "metadata": {},
   "source": [
    "### 7.Program to input the five numbers from the users and print the sum of those numbers"
   ]
  },
  {
   "cell_type": "code",
   "execution_count": 14,
   "id": "91cbb9e5",
   "metadata": {},
   "outputs": [
    {
     "name": "stdout",
     "output_type": "stream",
     "text": [
      "enter the number:4\n",
      "enter the number:8\n",
      "enter the number:2\n",
      "enter the number:9\n",
      "enter the number:1\n",
      "24\n"
     ]
    }
   ],
   "source": [
    "sum=0\n",
    "for i in range(5):\n",
    "    num=int(input(\"enter the number:\"))\n",
    "    sum=sum+num\n",
    "print(sum)    "
   ]
  },
  {
   "cell_type": "markdown",
   "id": "8d960faa",
   "metadata": {},
   "source": [
    "# 8.Program to print even numbers till 20 "
   ]
  },
  {
   "cell_type": "code",
   "execution_count": 16,
   "id": "817a8169",
   "metadata": {},
   "outputs": [
    {
     "name": "stdout",
     "output_type": "stream",
     "text": [
      "2\n",
      "4\n",
      "6\n",
      "8\n",
      "10\n",
      "12\n",
      "14\n",
      "16\n",
      "18\n"
     ]
    }
   ],
   "source": [
    "for i in range(1,20):\n",
    "    if(i%2==0):\n",
    "        print(i)"
   ]
  },
  {
   "cell_type": "markdown",
   "id": "a793d925",
   "metadata": {},
   "source": [
    "# 9.Print numbers that are divisible by 5 till 50 "
   ]
  },
  {
   "cell_type": "code",
   "execution_count": 17,
   "id": "e66cff7b",
   "metadata": {},
   "outputs": [
    {
     "name": "stdout",
     "output_type": "stream",
     "text": [
      "5\n",
      "10\n",
      "15\n",
      "20\n",
      "25\n",
      "30\n",
      "35\n",
      "40\n",
      "45\n"
     ]
    }
   ],
   "source": [
    "for i in range(1,50):\n",
    "    if(i%5==0):\n",
    "        print(i)"
   ]
  },
  {
   "cell_type": "markdown",
   "id": "269bcf28",
   "metadata": {},
   "source": [
    "# 10.Program to print the sum of even numbers and odd numbers till 20"
   ]
  },
  {
   "cell_type": "code",
   "execution_count": 20,
   "id": "f189c777",
   "metadata": {},
   "outputs": [
    {
     "name": "stdout",
     "output_type": "stream",
     "text": [
      "sum of even numbers: 90\n",
      "sum of odd numbers: 100\n"
     ]
    }
   ],
   "source": [
    "even=0\n",
    "odd=0\n",
    "for i in range(20):\n",
    "    if(i%2==0):\n",
    "        even=even+i\n",
    "    else:\n",
    "        odd=odd+i\n",
    "print(\"sum of even numbers:\",even)\n",
    "print(\"sum of odd numbers:\",odd)"
   ]
  },
  {
   "cell_type": "markdown",
   "id": "8062cd2c",
   "metadata": {},
   "source": [
    "# 11.Program to print the sum of the digits of a number"
   ]
  },
  {
   "cell_type": "code",
   "execution_count": 26,
   "id": "012567c1",
   "metadata": {},
   "outputs": [
    {
     "name": "stdout",
     "output_type": "stream",
     "text": [
      "enter the number:145\n",
      "10\n"
     ]
    }
   ],
   "source": [
    "num=int(input(\"enter the number:\"))\n",
    "sum=0\n",
    "while(num!=0):\n",
    "    if(num>0):\n",
    "        m=num%10\n",
    "        sum=sum+m\n",
    "        num=num//10\n",
    "print(sum)     "
   ]
  },
  {
   "cell_type": "markdown",
   "id": "c126eb4e",
   "metadata": {},
   "source": [
    "# 12.Armstrong number: is a number that equals the sum of its cube of its individual digits . For example: 153=1^3+5^2+3^3...Program to find the armstrong number"
   ]
  },
  {
   "cell_type": "code",
   "execution_count": 28,
   "id": "4ee45971",
   "metadata": {},
   "outputs": [
    {
     "name": "stdout",
     "output_type": "stream",
     "text": [
      "enter the number:153\n",
      "153\n",
      "it is a armstrong number\n"
     ]
    }
   ],
   "source": [
    "n=int(input(\"enter the number:\"))\n",
    "t=n\n",
    "sum=0\n",
    "while(n!=0):\n",
    "    if(n>0):\n",
    "        m=n%10\n",
    "        sum=sum+m*m*m\n",
    "        n=n//10\n",
    "print(sum)\n",
    "if(sum==t):\n",
    "    print(\"it is a armstrong number\")\n",
    "else:\n",
    "    print(\"its not a armstrong number\")"
   ]
  },
  {
   "cell_type": "markdown",
   "id": "4f94737e",
   "metadata": {},
   "source": [
    "# 13.To find whether the number is prime or not"
   ]
  },
  {
   "cell_type": "code",
   "execution_count": 3,
   "id": "7736cc8f",
   "metadata": {},
   "outputs": [
    {
     "name": "stdout",
     "output_type": "stream",
     "text": [
      "enter the number:7\n",
      "7 is a prime number\n"
     ]
    }
   ],
   "source": [
    "num=int(input(\"enter the number:\"))\n",
    "flag=False\n",
    "if(num==1):\n",
    "    print(num,\"is not a prime number\")\n",
    "elif(num>1):\n",
    "    for i in range(2,num):\n",
    "            if(num%i==0):\n",
    "                flag=True\n",
    "                break\n",
    "    if(flag==True):\n",
    "            print(num,\"is not a prime number\")\n",
    "    else:\n",
    "            print(num,\"is a prime number\")\n"
   ]
  }
 ],
 "metadata": {
  "kernelspec": {
   "display_name": "Python 3 (ipykernel)",
   "language": "python",
   "name": "python3"
  },
  "language_info": {
   "codemirror_mode": {
    "name": "ipython",
    "version": 3
   },
   "file_extension": ".py",
   "mimetype": "text/x-python",
   "name": "python",
   "nbconvert_exporter": "python",
   "pygments_lexer": "ipython3",
   "version": "3.11.5"
  }
 },
 "nbformat": 4,
 "nbformat_minor": 5
}
