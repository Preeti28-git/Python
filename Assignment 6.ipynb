{
 "cells": [
  {
   "cell_type": "markdown",
   "id": "ed3cd8ab",
   "metadata": {},
   "source": [
    "# Dictionary assignment no. 6"
   ]
  },
  {
   "cell_type": "markdown",
   "id": "20d7e0da",
   "metadata": {},
   "source": [
    "#### Ques1. Write a program to sum all the values in the dictionary\n"
   ]
  },
  {
   "cell_type": "code",
   "execution_count": 4,
   "id": "25977964",
   "metadata": {},
   "outputs": [],
   "source": [
    "dict={'maths':67,'eng':89,'hindi':71,'science':23}\n",
    "d=dict.values()"
   ]
  },
  {
   "cell_type": "code",
   "execution_count": 5,
   "id": "9754f058",
   "metadata": {},
   "outputs": [
    {
     "data": {
      "text/plain": [
       "250"
      ]
     },
     "execution_count": 5,
     "metadata": {},
     "output_type": "execute_result"
    }
   ],
   "source": [
    "sum(d)"
   ]
  },
  {
   "cell_type": "markdown",
   "id": "c55b282f",
   "metadata": {},
   "source": [
    "#### Ques2. Create a function that takes two dictionaries d1 and d2 as arguments and returns a new dict that contains all the elements from d1 that are not in d2\n"
   ]
  },
  {
   "cell_type": "code",
   "execution_count": 52,
   "id": "4e61b00a",
   "metadata": {},
   "outputs": [],
   "source": [
    "dict1={'a':0,'b':1,\"c\":3,'f':7}\n",
    "dict2={'c':3,'d':4}\n",
    "dict3={}\n",
    "def dict(d1,d2):\n",
    "    for i in d1:\n",
    "        if i not in d2:\n",
    "            d3.update({i:d1[i]})\n",
    "            return d3    "
   ]
  },
  {
   "cell_type": "code",
   "execution_count": 53,
   "id": "9b849984",
   "metadata": {},
   "outputs": [
    {
     "name": "stdout",
     "output_type": "stream",
     "text": [
      "{'a': 0, 'b': 1, 'f': 7}\n"
     ]
    }
   ],
   "source": [
    "x=dict(dict1,dict2)\n",
    "print(x)"
   ]
  },
  {
   "cell_type": "markdown",
   "id": "d661423e",
   "metadata": {},
   "source": [
    "#### Ques3. Write a function that takes value as argument and returns the first key that maps to that value\n"
   ]
  },
  {
   "cell_type": "code",
   "execution_count": 59,
   "id": "0a841ef5",
   "metadata": {},
   "outputs": [],
   "source": [
    "dict={'maths':67,'eng':89,'hindi':71,'science':23}\n",
    "def find_key(d,value):\n",
    "    for key in d:\n",
    "        \n",
    "        if d[key]==value:\n",
    "            print(key)  "
   ]
  },
  {
   "cell_type": "code",
   "execution_count": 60,
   "id": "df765681",
   "metadata": {},
   "outputs": [
    {
     "name": "stdout",
     "output_type": "stream",
     "text": [
      "maths\n"
     ]
    }
   ],
   "source": [
    "find_key(dict,67)"
   ]
  },
  {
   "cell_type": "code",
   "execution_count": 61,
   "id": "f259825b",
   "metadata": {},
   "outputs": [
    {
     "name": "stdout",
     "output_type": "stream",
     "text": [
      "None\n"
     ]
    }
   ],
   "source": [
    "print(find_key(dict,60))"
   ]
  },
  {
   "cell_type": "markdown",
   "id": "999d06da",
   "metadata": {},
   "source": [
    "#### Ques4. Write a progarm to combine two dictionaries by summing up values for common keys"
   ]
  },
  {
   "cell_type": "code",
   "execution_count": 84,
   "id": "4cb4b6a2",
   "metadata": {},
   "outputs": [
    {
     "name": "stdout",
     "output_type": "stream",
     "text": [
      "{'c': 6, 'd': 4, 'h': 8}\n"
     ]
    }
   ],
   "source": [
    "dict1={'a':0,'b':1,\"c\":3,'f':7,'e':5,'g':6}\n",
    "dict2={'c':3,'d':4,'h':8}\n",
    "for key in dict2:\n",
    "    if key in dict1:\n",
    "        dict2[key]=dict2[key]+dict1[key]\n",
    "print(dict2)    "
   ]
  },
  {
   "cell_type": "markdown",
   "id": "60d84b88",
   "metadata": {},
   "source": [
    "#### Ques5. Consider the given list: names=['amrit','anmol','anubahv','pranav','tiya']\n",
    "#### Use the dict comprehension to convert above list into dictionary which contains the names as the keys and their length as values. Include only those names of the name is greater than or equals to s."
   ]
  },
  {
   "cell_type": "code",
   "execution_count": 18,
   "id": "649ff4bf",
   "metadata": {},
   "outputs": [
    {
     "name": "stdout",
     "output_type": "stream",
     "text": [
      "Amrit -> 5\n",
      "Anmol -> 5\n",
      "Anubhav -> 7\n",
      "Pranav -> 6\n",
      "Tiya -> 4\n",
      "DICTIONARY FROM LIST:\n",
      " {'Amrit': 5, 'Anmol': 5, 'Anubhav': 7, 'Pranav': 6, 'Tiya': 4}\n"
     ]
    }
   ],
   "source": [
    "names=['amrit','anmol','anubhav','pranav','tiya']\n",
    "dict={}\n",
    "for key in names:\n",
    "    key=key.capitalize()\n",
    "    val=len(key)\n",
    "    print(key,'->',val)\n",
    "    dict.update({key:val})  \n",
    "print('DICTIONARY FROM LIST:\\n',dict)       "
   ]
  }
 ],
 "metadata": {
  "kernelspec": {
   "display_name": "Python 3 (ipykernel)",
   "language": "python",
   "name": "python3"
  },
  "language_info": {
   "codemirror_mode": {
    "name": "ipython",
    "version": 3
   },
   "file_extension": ".py",
   "mimetype": "text/x-python",
   "name": "python",
   "nbconvert_exporter": "python",
   "pygments_lexer": "ipython3",
   "version": "3.11.5"
  }
 },
 "nbformat": 4,
 "nbformat_minor": 5
}
